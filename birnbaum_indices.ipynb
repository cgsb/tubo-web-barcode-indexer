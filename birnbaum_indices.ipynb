{
 "cells": [
  {
   "cell_type": "code",
   "execution_count": 4,
   "metadata": {
    "collapsed": false
   },
   "outputs": [],
   "source": [
    "bc = dict()\n",
    "count = 0\n",
    "# input csv\n",
    "infile = \"Birnbaum_indices.csv\"\n",
    "# output csv\n",
    "outfile = \"Birnbaum_indices_indexed.csv\"\n",
    "# file to output the indexed barcodes\n",
    "bcList = \"barcode_list.csv\"\n",
    "# Zero-based column number of forward barcode\n",
    "fCol = 4\n",
    "# Zero-based column number of reverse barcode\n",
    "rCol = 6\n",
    "\n",
    "with open(infile, 'rb') as csv, open(outfile, \"w\") as out, open(bcList, 'w') as bcout:\n",
    "    for line in csv.readlines():\n",
    "        if 'Sample_ID' in line:\n",
    "            line = line.rstrip()\n",
    "            out.write(line+\",Tubo_Web_Index\\n\")\n",
    "            bcout.write(\"Barcode,Tubo_Web_Index\\n\")\n",
    "            continue\n",
    "        line = line.rstrip().split(',')\n",
    "        if line[fCol] not in bc:\n",
    "            count += 1\n",
    "            bc[line[fCol]] = count\n",
    "            bcout.write(line[fCol]+\",\"+str(count)+\"\\n\")\n",
    "            \n",
    "        if line[rCol] not in bc:\n",
    "            count += 1\n",
    "            bc[line[rCol]] = count\n",
    "            bcout.write(line[rCol]+\",\"+str(count)+\"\\n\")\n",
    "            \n",
    "        out.write(\",\".join(line)+\",\"+str(bc[line[fCol]])+\";\"+str(bc[line[rCol]])+\"\\n\")\n"
   ]
  },
  {
   "cell_type": "code",
   "execution_count": null,
   "metadata": {
    "collapsed": true
   },
   "outputs": [],
   "source": []
  }
 ],
 "metadata": {
  "kernelspec": {
   "display_name": "Python 2",
   "language": "python",
   "name": "python2"
  },
  "language_info": {
   "codemirror_mode": {
    "name": "ipython",
    "version": 2
   },
   "file_extension": ".py",
   "mimetype": "text/x-python",
   "name": "python",
   "nbconvert_exporter": "python",
   "pygments_lexer": "ipython2",
   "version": "2.7.10"
  }
 },
 "nbformat": 4,
 "nbformat_minor": 0
}
