{
 "cells": [
  {
   "cell_type": "code",
   "execution_count": 36,
   "metadata": {
    "collapsed": false
   },
   "outputs": [],
   "source": [
    "bc = dict()\n",
    "count = 0\n",
    "fCol = 4\n",
    "rCol = 6\n",
    "with open(\"Birnbaum_indices.csv\", 'rb') as csv, open(\"Birnbaum_indices_indexed.csv\", \"w\") as out:\n",
    "    for line in csv.readlines():\n",
    "        if 'Sample_ID' in line:\n",
    "            line = line.rstrip()\n",
    "            out.write(line+\",Tubo_Web_Index\\n\")\n",
    "            continue\n",
    "        line = line.rstrip().split(',')\n",
    "        if line[fCol] not in bc:\n",
    "            count += 1\n",
    "            bc[line[fCol]] = count\n",
    "            \n",
    "        if line[rCol] not in bc:\n",
    "            count += 1\n",
    "            bc[line[rCol]] = count\n",
    "            \n",
    "        out.write(\",\".join(line)+\",\"+str(bc[line[fCol]])+\";\"+str(bc[line[rCol]])+\"\\n\")"
   ]
  },
  {
   "cell_type": "code",
   "execution_count": null,
   "metadata": {
    "collapsed": true
   },
   "outputs": [],
   "source": []
  }
 ],
 "metadata": {
  "kernelspec": {
   "display_name": "Python 2",
   "language": "python",
   "name": "python2"
  },
  "language_info": {
   "codemirror_mode": {
    "name": "ipython",
    "version": 2
   },
   "file_extension": ".py",
   "mimetype": "text/x-python",
   "name": "python",
   "nbconvert_exporter": "python",
   "pygments_lexer": "ipython2",
   "version": "2.7.10"
  }
 },
 "nbformat": 4,
 "nbformat_minor": 0
}
